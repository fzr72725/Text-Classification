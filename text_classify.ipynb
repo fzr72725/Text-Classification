{
 "cells": [
  {
   "cell_type": "code",
   "execution_count": 1,
   "metadata": {
    "collapsed": true
   },
   "outputs": [],
   "source": [
    "import pandas as pd\n",
    "import numpy as np\n",
    "import sys, os\n",
    "from sklearn.feature_extraction.text import TfidfVectorizer\n",
    "from sklearn.cross_validation import train_test_split\n",
    "from sklearn.feature_extraction.text import TfidfTransformer, CountVectorizer\n",
    "from sklearn.linear_model import LogisticRegression\n",
    "from sklearn.naive_bayes import MultinomialNB\n",
    "from sklearn.grid_search import GridSearchCV\n",
    "from sklearn.pipeline import Pipeline\n",
    "from sklearn.metrics import recall_score, accuracy_score, precision_score, roc_auc_score\n"
   ]
  },
  {
   "cell_type": "markdown",
   "metadata": {},
   "source": [
    "## Data Cleaning"
   ]
  },
  {
   "cell_type": "code",
   "execution_count": 2,
   "metadata": {
    "collapsed": true
   },
   "outputs": [],
   "source": [
    "root = 'data/Presential_Speeches'"
   ]
  },
  {
   "cell_type": "code",
   "execution_count": 9,
   "metadata": {
    "collapsed": true
   },
   "outputs": [],
   "source": [
    "test = 'data/Presential_Speeches'"
   ]
  },
  {
   "cell_type": "code",
   "execution_count": 10,
   "metadata": {},
   "outputs": [
    {
     "data": {
      "text/plain": [
       "'_Speeches'"
      ]
     },
     "execution_count": 10,
     "metadata": {},
     "output_type": "execute_result"
    }
   ],
   "source": [
    "test[-9:]"
   ]
  },
  {
   "cell_type": "markdown",
   "metadata": {},
   "source": [
    "### Get all document paths"
   ]
  },
  {
   "cell_type": "code",
   "execution_count": 3,
   "metadata": {
    "collapsed": true
   },
   "outputs": [],
   "source": [
    "all_docs = []\n",
    "for path, sub, filen in os.walk(root):\n",
    "#     print 'PPP', path\n",
    "#     print 'SSS', sub\n",
    "#     print 'FFF', filen\n",
    "    if path[-9:]!='_Speeches':\n",
    "        for f in filen:\n",
    "            doc_path = path+'/'+f\n",
    "            all_docs.append(doc_path)"
   ]
  },
  {
   "cell_type": "code",
   "execution_count": 4,
   "metadata": {
    "collapsed": true
   },
   "outputs": [],
   "source": [
    "#all_docs"
   ]
  },
  {
   "cell_type": "code",
   "execution_count": 5,
   "metadata": {
    "collapsed": true
   },
   "outputs": [],
   "source": [
    "df = pd.DataFrame({'path':all_docs, 'doc_id':range(1,len(all_docs)+1)})"
   ]
  },
  {
   "cell_type": "code",
   "execution_count": 6,
   "metadata": {},
   "outputs": [
    {
     "data": {
      "text/plain": [
       "['data', 'Presential_Speeches', '']"
      ]
     },
     "execution_count": 6,
     "metadata": {},
     "output_type": "execute_result"
    }
   ],
   "source": [
    "('data/Presential_Speeches/').split('/')"
   ]
  },
  {
   "cell_type": "code",
   "execution_count": 7,
   "metadata": {
    "collapsed": true
   },
   "outputs": [],
   "source": [
    "df['president'] = df['path'].apply(lambda x: x.split('/')[2])"
   ]
  },
  {
   "cell_type": "code",
   "execution_count": 8,
   "metadata": {
    "collapsed": true
   },
   "outputs": [],
   "source": [
    "def read_file(path):\n",
    "    with open(path) as f:\n",
    "        content = f.read()\n",
    "    #postString = content.split(\"\\n\")[2]\n",
    "    return content\n"
   ]
  },
  {
   "cell_type": "code",
   "execution_count": 9,
   "metadata": {
    "collapsed": true
   },
   "outputs": [],
   "source": [
    "df['speech_content'] = df['path'].apply(read_file)"
   ]
  },
  {
   "cell_type": "code",
   "execution_count": 10,
   "metadata": {
    "collapsed": true
   },
   "outputs": [],
   "source": [
    "pd.set_option('display.max_colwidth', -1)"
   ]
  },
  {
   "cell_type": "code",
   "execution_count": 11,
   "metadata": {
    "collapsed": true
   },
   "outputs": [],
   "source": [
    "#df.head()"
   ]
  },
  {
   "cell_type": "code",
   "execution_count": 12,
   "metadata": {},
   "outputs": [
    {
     "data": {
      "text/plain": [
       "(962, 4)"
      ]
     },
     "execution_count": 12,
     "metadata": {},
     "output_type": "execute_result"
    }
   ],
   "source": [
    "df.shape"
   ]
  },
  {
   "cell_type": "code",
   "execution_count": 13,
   "metadata": {
    "collapsed": true
   },
   "outputs": [],
   "source": [
    "#df.head()"
   ]
  },
  {
   "cell_type": "markdown",
   "metadata": {},
   "source": [
    "### Manually tag each president's party"
   ]
  },
  {
   "cell_type": "code",
   "execution_count": 14,
   "metadata": {
    "collapsed": true
   },
   "outputs": [],
   "source": [
    "pre_par = {'adams': 'Federalist',\n",
    " 'arthur': 'Republican',\n",
    " 'bharrison': 'Republican',\n",
    " 'buchanan': 'Democratic',\n",
    " 'bush': 'Republican',\n",
    " 'carter': 'Democratic',\n",
    " 'cleveland': 'Democratic',\n",
    " 'clinton': 'Democratic',\n",
    " 'coolidge': 'Republican',\n",
    " 'eisenhower': 'Republican',\n",
    " 'fdroosevelt': 'Democratic',\n",
    " 'fillmore': 'Whig',\n",
    " 'ford': 'Republican',\n",
    " 'garfield': 'Republican',\n",
    " 'grant': 'Republican',\n",
    " 'gwbush': 'Republican',\n",
    " 'harding': 'Republican',\n",
    " 'harrison': 'Whig',\n",
    " 'hayes': 'Republican',\n",
    " 'hoover': 'Republican',\n",
    " 'jackson': 'Democratic',\n",
    " 'jefferson': 'Democratic-Republican',\n",
    " 'johnson': 'National Union',\n",
    " 'jqadams': 'Democratic-Republican',\n",
    " 'kennedy': 'Democratic',\n",
    " 'lbjohnson': 'Democratic',\n",
    " 'lincoln': 'Republican',\n",
    " 'madison': 'Democratic-Republican',\n",
    " 'mckinley': 'Republican',\n",
    " 'monroe': 'Democratic-Republican',\n",
    " 'nixon': 'Republican',\n",
    " 'obama': 'Democratic',\n",
    " 'pierce': 'Democratic',\n",
    " 'polk': 'Democratic',\n",
    " 'reagan': 'Republican',\n",
    " 'roosevelt': 'Republican',\n",
    " 'taft': 'Republican',\n",
    " 'taylor': 'Whig',\n",
    " 'truman': 'Democratic',\n",
    " 'tyler': 'Whig',\n",
    " 'vanburen': 'Democrat',\n",
    " 'washington': 'none',\n",
    " 'wilson': 'Democratic'}"
   ]
  },
  {
   "cell_type": "code",
   "execution_count": 15,
   "metadata": {
    "collapsed": true
   },
   "outputs": [],
   "source": [
    "df['party'] = df['president'].apply(lambda x: pre_par[x])"
   ]
  },
  {
   "cell_type": "code",
   "execution_count": 16,
   "metadata": {
    "collapsed": true
   },
   "outputs": [],
   "source": [
    "#df[['president','party']].head(80)"
   ]
  },
  {
   "cell_type": "code",
   "execution_count": 17,
   "metadata": {
    "collapsed": true
   },
   "outputs": [],
   "source": [
    "df_new = df[(df['party']=='Republican')|(df['party']=='Democratic')]"
   ]
  },
  {
   "cell_type": "code",
   "execution_count": 18,
   "metadata": {},
   "outputs": [
    {
     "data": {
      "text/plain": [
       "(797, 5)"
      ]
     },
     "execution_count": 18,
     "metadata": {},
     "output_type": "execute_result"
    }
   ],
   "source": [
    "# take only republican and democratic presidents to train the models\n",
    "df_new.shape"
   ]
  },
  {
   "cell_type": "markdown",
   "metadata": {},
   "source": [
    "### Examine the class balance between Republican and Democratic"
   ]
  },
  {
   "cell_type": "code",
   "execution_count": 19,
   "metadata": {},
   "outputs": [
    {
     "data": {
      "text/plain": [
       "0.45294855708908405"
      ]
     },
     "execution_count": 19,
     "metadata": {},
     "output_type": "execute_result"
    }
   ],
   "source": [
    "1.*sum(df_new['party']=='Republican')/df_new.shape[0]"
   ]
  },
  {
   "cell_type": "markdown",
   "metadata": {},
   "source": [
    "**looks pretty balanced**"
   ]
  },
  {
   "cell_type": "code",
   "execution_count": 20,
   "metadata": {
    "collapsed": true
   },
   "outputs": [],
   "source": [
    "#X = df_new[['path','speech_content']]\n",
    "X = df_new['speech_content']\n",
    "y = df_new['party']\n",
    "X_train, X_test, y_train, y_test = train_test_split(X, y)"
   ]
  },
  {
   "cell_type": "code",
   "execution_count": 21,
   "metadata": {},
   "outputs": [
    {
     "data": {
      "text/plain": [
       "(797,)"
      ]
     },
     "execution_count": 21,
     "metadata": {},
     "output_type": "execute_result"
    }
   ],
   "source": [
    "X.shape"
   ]
  },
  {
   "cell_type": "code",
   "execution_count": 22,
   "metadata": {
    "collapsed": true
   },
   "outputs": [],
   "source": [
    "#X.head()"
   ]
  },
  {
   "cell_type": "code",
   "execution_count": 23,
   "metadata": {},
   "outputs": [
    {
     "data": {
      "text/plain": [
       "0.45294855708908405"
      ]
     },
     "execution_count": 23,
     "metadata": {},
     "output_type": "execute_result"
    }
   ],
   "source": [
    "1.*sum(y=='Republican')/y.shape[0]"
   ]
  },
  {
   "cell_type": "code",
   "execution_count": 24,
   "metadata": {},
   "outputs": [
    {
     "data": {
      "text/plain": [
       "0.5"
      ]
     },
     "execution_count": 24,
     "metadata": {},
     "output_type": "execute_result"
    }
   ],
   "source": [
    "1.*sum(y_test=='Republican')/y_test.shape[0]"
   ]
  },
  {
   "cell_type": "markdown",
   "metadata": {},
   "source": [
    "### Text Data Preprocessing"
   ]
  },
  {
   "cell_type": "code",
   "execution_count": 25,
   "metadata": {
    "collapsed": true
   },
   "outputs": [],
   "source": [
    "vectorizer = TfidfVectorizer(stop_words='english')"
   ]
  },
  {
   "cell_type": "code",
   "execution_count": 26,
   "metadata": {
    "collapsed": true
   },
   "outputs": [],
   "source": [
    "X_train_dtm = vectorizer.fit_transform(X_train)\n",
    "X_test_dtm = vectorizer.transform(X_test)"
   ]
  },
  {
   "cell_type": "code",
   "execution_count": 27,
   "metadata": {},
   "outputs": [
    {
     "data": {
      "text/plain": [
       "(597, 29292)"
      ]
     },
     "execution_count": 27,
     "metadata": {},
     "output_type": "execute_result"
    }
   ],
   "source": [
    "X_train_dtm.shape"
   ]
  },
  {
   "cell_type": "code",
   "execution_count": 28,
   "metadata": {},
   "outputs": [
    {
     "data": {
      "text/plain": [
       "(200, 29292)"
      ]
     },
     "execution_count": 28,
     "metadata": {},
     "output_type": "execute_result"
    }
   ],
   "source": [
    "X_test_dtm.shape"
   ]
  },
  {
   "cell_type": "markdown",
   "metadata": {},
   "source": [
    "### Modeling"
   ]
  },
  {
   "cell_type": "markdown",
   "metadata": {},
   "source": [
    "**Logistic Regression**"
   ]
  },
  {
   "cell_type": "code",
   "execution_count": 29,
   "metadata": {
    "collapsed": true
   },
   "outputs": [],
   "source": [
    "from nltk.stem.snowball import PorterStemmer\n",
    "\n",
    "stemmer = PorterStemmer()\n",
    "analyzer = CountVectorizer().build_analyzer()\n",
    "\n",
    "def stemmed_words(doc):\n",
    "    return (stemmer.stem(w) for w in analyzer(doc))"
   ]
  },
  {
   "cell_type": "markdown",
   "metadata": {},
   "source": [
    "**Due to computation limit, here I used only PorterStemmer. With distributed computation, more stemming/lemmatization choices can be tested in GridSearch**"
   ]
  },
  {
   "cell_type": "code",
   "execution_count": 205,
   "metadata": {},
   "outputs": [
    {
     "name": "stdout",
     "output_type": "stream",
     "text": [
      "Fitting 3 folds for each of 24 candidates, totalling 72 fits\n"
     ]
    },
    {
     "name": "stderr",
     "output_type": "stream",
     "text": [
      "[Parallel(n_jobs=-1)]: Done  42 tasks      | elapsed: 10.0min\n",
      "[Parallel(n_jobs=-1)]: Done  72 out of  72 | elapsed: 17.1min finished\n"
     ]
    },
    {
     "name": "stdout",
     "output_type": "stream",
     "text": [
      "Best score: 0.739\n",
      "Best parameters set:\n"
     ]
    }
   ],
   "source": [
    "# Gridsearch on text feature extractor and classfier hyper params\n",
    "pipeline = Pipeline([\n",
    "    ('vect', CountVectorizer(stop_words='english', analyzer=stemmed_words)),\n",
    "    ('tfidf', TfidfTransformer()),\n",
    "    ('clf', LogisticRegression()),\n",
    "])\n",
    "\n",
    "parameters = {\n",
    "    'vect__max_df': (0.5, 0.75),\n",
    "    #'vect__max_features': (None, 5000, 10000),\n",
    "    'vect__ngram_range': ((1, 2), (1, 3)),  # unigrams or bigrams\n",
    "    #'tfidf__use_idf': (True, False),\n",
    "    #'tfidf__norm': ('l1', 'l2'),\n",
    "    'clf__C':[0.01,0.1,1],\n",
    "    'clf__penalty': ('l2', 'l1')\n",
    "    #'clf__n_iter': (10, 50, 80),\n",
    "}\n",
    "\n",
    "grid_search = GridSearchCV(pipeline, parameters, n_jobs=-1, verbose=1)\n",
    "grid_search.fit(X_train, y_train)\n",
    "\n",
    "print(\"Best score: %0.3f\" % grid_search.best_score_)\n",
    "print(\"Best parameters set:\")\n",
    "best_parameters = grid_search.best_estimator_.get_params()"
   ]
  },
  {
   "cell_type": "code",
   "execution_count": 207,
   "metadata": {},
   "outputs": [
    {
     "name": "stdout",
     "output_type": "stream",
     "text": [
      "\tclf__C: 1\n",
      "\tclf__penalty: 'l2'\n",
      "\tvect__max_df: 0.5\n",
      "\tvect__ngram_range: (1, 2)\n"
     ]
    }
   ],
   "source": [
    "for param_name in sorted(parameters.keys()):\n",
    "        print(\"\\t%s: %r\" % (param_name, best_parameters[param_name]))"
   ]
  },
  {
   "cell_type": "code",
   "execution_count": 208,
   "metadata": {},
   "outputs": [
    {
     "data": {
      "text/plain": [
       "Pipeline(steps=[('vect', CountVectorizer(analyzer=<function stemmed_words at 0x1a1e3e8050>,\n",
       "        binary=False, decode_error=u'strict', dtype=<type 'numpy.int64'>,\n",
       "        encoding=u'utf-8', input=u'content', lowercase=True, max_df=0.5,\n",
       "        max_features=None, min_df=1, ngram_range=(1, 2), preprocessor=...ty='l2', random_state=None, solver='liblinear', tol=0.0001,\n",
       "          verbose=0, warm_start=False))])"
      ]
     },
     "execution_count": 208,
     "metadata": {},
     "output_type": "execute_result"
    }
   ],
   "source": [
    "pipeline = Pipeline([\n",
    "    ('vect', CountVectorizer(stop_words='english', analyzer=stemmed_words, max_df=0.5, ngram_range=(1,2))),\n",
    "    ('tfidf', TfidfTransformer(norm='l2')),\n",
    "    ('clf', LogisticRegression(C=1, penalty='l2')),\n",
    "])\n",
    "pipeline.fit(X_train, y_train)"
   ]
  },
  {
   "cell_type": "code",
   "execution_count": 209,
   "metadata": {
    "collapsed": true
   },
   "outputs": [],
   "source": [
    "y_pred = pipeline.predict(X_test)"
   ]
  },
  {
   "cell_type": "code",
   "execution_count": 218,
   "metadata": {
    "collapsed": true
   },
   "outputs": [],
   "source": [
    "y_test_num = y_test=='Republican'\n",
    "y_pred_num = y_pred=='Republican'"
   ]
  },
  {
   "cell_type": "code",
   "execution_count": 280,
   "metadata": {},
   "outputs": [
    {
     "data": {
      "text/plain": [
       "0.755"
      ]
     },
     "execution_count": 280,
     "metadata": {},
     "output_type": "execute_result"
    }
   ],
   "source": [
    "accuracy_score(y_test_num, y_pred_num)"
   ]
  },
  {
   "cell_type": "code",
   "execution_count": 284,
   "metadata": {},
   "outputs": [
    {
     "data": {
      "text/plain": [
       "0.84848484848484851"
      ]
     },
     "execution_count": 284,
     "metadata": {},
     "output_type": "execute_result"
    }
   ],
   "source": [
    "precision_score(y_test_num, y_pred_num)"
   ]
  },
  {
   "cell_type": "code",
   "execution_count": 285,
   "metadata": {},
   "outputs": [
    {
     "data": {
      "text/plain": [
       "0.58947368421052626"
      ]
     },
     "execution_count": 285,
     "metadata": {},
     "output_type": "execute_result"
    }
   ],
   "source": [
    "recall_score(y_test_num, y_pred_num)"
   ]
  },
  {
   "cell_type": "code",
   "execution_count": 287,
   "metadata": {},
   "outputs": [
    {
     "data": {
      "text/plain": [
       "0.74711779448621551"
      ]
     },
     "execution_count": 287,
     "metadata": {},
     "output_type": "execute_result"
    }
   ],
   "source": [
    "roc_auc_score(y_test_num, y_pred_num)"
   ]
  },
  {
   "cell_type": "markdown",
   "metadata": {},
   "source": [
    "**Naive Bayes**"
   ]
  },
  {
   "cell_type": "code",
   "execution_count": 30,
   "metadata": {
    "collapsed": true
   },
   "outputs": [],
   "source": [
    "y_train_num = y_train=='Republican'"
   ]
  },
  {
   "cell_type": "code",
   "execution_count": 31,
   "metadata": {
    "collapsed": true
   },
   "outputs": [],
   "source": [
    "from nltk.stem import WordNetLemmatizer\n",
    "lemm = WordNetLemmatizer()\n",
    "analyzer = CountVectorizer().build_analyzer()\n",
    "\n",
    "def lemm_words(doc):\n",
    "    return (lemm.lemmatize(w) for w in analyzer(doc))"
   ]
  },
  {
   "cell_type": "code",
   "execution_count": 32,
   "metadata": {},
   "outputs": [
    {
     "name": "stdout",
     "output_type": "stream",
     "text": [
      "Fitting 3 folds for each of 4 candidates, totalling 12 fits\n"
     ]
    },
    {
     "name": "stderr",
     "output_type": "stream",
     "text": [
      "[Parallel(n_jobs=-1)]: Done  12 out of  12 | elapsed:  4.0min finished\n"
     ]
    },
    {
     "name": "stdout",
     "output_type": "stream",
     "text": [
      "Best score: 0.715\n",
      "Best parameters set:\n",
      "\tvect__max_df: 0.5\n",
      "\tvect__ngram_range: (1, 1)\n"
     ]
    }
   ],
   "source": [
    "pipeline = Pipeline([\n",
    "    #('vect', CountVectorizer(stop_words='english', analyzer=lemm_words)),\n",
    "    ('vect', CountVectorizer(stop_words='english', analyzer=stemmed_words)),\n",
    "    #('tfidf', TfidfTransformer()),\n",
    "    ('clf', MultinomialNB())\n",
    "])\n",
    "\n",
    "parameters = {\n",
    "    'vect__max_df': (0.5, 0.75),\n",
    "    #'vect__max_features': (None, 5000, 10000),\n",
    "    'vect__ngram_range': ((1, 1), (1, 2))  # unigrams or bigrams\n",
    "    #'tfidf__use_idf': (True, False),\n",
    "    #'tfidf__norm': ('l1', 'l2'),\n",
    "    #'clf__alpha':[1,None]\n",
    "}\n",
    "\n",
    "grid_search = GridSearchCV(pipeline, parameters, n_jobs=-1, verbose=1, scoring='accuracy')\n",
    "grid_search.fit(X_train, y_train_num)\n",
    "\n",
    "print(\"Best score: %0.3f\" % grid_search.best_score_)\n",
    "print(\"Best parameters set:\")\n",
    "best_parameters = grid_search.best_estimator_.get_params()\n",
    "for param_name in sorted(parameters.keys()):\n",
    "        print(\"\\t%s: %r\" % (param_name, best_parameters[param_name]))"
   ]
  },
  {
   "cell_type": "code",
   "execution_count": null,
   "metadata": {
    "collapsed": true
   },
   "outputs": [],
   "source": [
    "for param_name in sorted(parameters.keys()):\n",
    "        print(\"\\t%s: %r\" % (param_name, best_parameters[param_name]))"
   ]
  },
  {
   "cell_type": "code",
   "execution_count": 33,
   "metadata": {},
   "outputs": [
    {
     "data": {
      "text/plain": [
       "Pipeline(steps=[('vect', CountVectorizer(analyzer=<function stemmed_words at 0x1a1b349f50>,\n",
       "        binary=False, decode_error=u'strict', dtype=<type 'numpy.int64'>,\n",
       "        encoding=u'utf-8', input=u'content', lowercase=True, max_df=0.5,\n",
       "        max_features=None, min_df=1, ngram_range=(1, 1), preprocessor=...one,\n",
       "        vocabulary=None)), ('clf', MultinomialNB(alpha=1.0, class_prior=None, fit_prior=True))])"
      ]
     },
     "execution_count": 33,
     "metadata": {},
     "output_type": "execute_result"
    }
   ],
   "source": [
    "pipeline = Pipeline([\n",
    "    ('vect', CountVectorizer(stop_words='english', analyzer=stemmed_words, max_df=0.5, ngram_range=(1,1))),\n",
    "    ('clf', MultinomialNB())\n",
    "])\n",
    "pipeline.fit(X_train, y_train)"
   ]
  },
  {
   "cell_type": "code",
   "execution_count": 34,
   "metadata": {
    "collapsed": true
   },
   "outputs": [],
   "source": [
    "y_pred = pipeline.predict(X_test)"
   ]
  },
  {
   "cell_type": "code",
   "execution_count": 35,
   "metadata": {
    "collapsed": true
   },
   "outputs": [],
   "source": [
    "y_test_num = y_test=='Republican'\n",
    "y_pred_num = y_pred=='Republican'"
   ]
  },
  {
   "cell_type": "code",
   "execution_count": 36,
   "metadata": {},
   "outputs": [
    {
     "data": {
      "text/plain": [
       "0.75"
      ]
     },
     "execution_count": 36,
     "metadata": {},
     "output_type": "execute_result"
    }
   ],
   "source": [
    "accuracy_score(y_test_num, y_pred_num)"
   ]
  },
  {
   "cell_type": "markdown",
   "metadata": {},
   "source": [
    "**Precision score is slightly lower compare to Logistic Regression**"
   ]
  },
  {
   "cell_type": "code",
   "execution_count": 37,
   "metadata": {},
   "outputs": [
    {
     "data": {
      "text/plain": [
       "0.79761904761904767"
      ]
     },
     "execution_count": 37,
     "metadata": {},
     "output_type": "execute_result"
    }
   ],
   "source": [
    "precision_score(y_test_num, y_pred_num)"
   ]
  },
  {
   "cell_type": "markdown",
   "metadata": {},
   "source": [
    "**Recall score is higher compare to Logistic Regression**"
   ]
  },
  {
   "cell_type": "code",
   "execution_count": 38,
   "metadata": {},
   "outputs": [
    {
     "data": {
      "text/plain": [
       "0.67000000000000004"
      ]
     },
     "execution_count": 38,
     "metadata": {},
     "output_type": "execute_result"
    }
   ],
   "source": [
    "recall_score(y_test_num, y_pred_num)"
   ]
  },
  {
   "cell_type": "markdown",
   "metadata": {},
   "source": [
    "## Extra steps to explore the corpus"
   ]
  },
  {
   "cell_type": "markdown",
   "metadata": {},
   "source": [
    "### What if we forget about the \"party label\", and do a unsupervised learning?"
   ]
  },
  {
   "cell_type": "code",
   "execution_count": 191,
   "metadata": {},
   "outputs": [
    {
     "data": {
      "text/plain": [
       "Index([u'doc_id', u'path', u'president', u'speech_content', u'party'], dtype='object')"
      ]
     },
     "execution_count": 191,
     "metadata": {},
     "output_type": "execute_result"
    }
   ],
   "source": [
    "df.columns"
   ]
  },
  {
   "cell_type": "code",
   "execution_count": 193,
   "metadata": {
    "collapsed": true
   },
   "outputs": [],
   "source": [
    "df_cluster = df['speech_content']"
   ]
  },
  {
   "cell_type": "code",
   "execution_count": 227,
   "metadata": {
    "collapsed": true
   },
   "outputs": [],
   "source": [
    "vectorizer = TfidfVectorizer(stop_words='english', analyzer=lemm_words, max_features=15000)\n",
    "X_dtm = vectorizer.fit_transform(X)"
   ]
  },
  {
   "cell_type": "code",
   "execution_count": 228,
   "metadata": {},
   "outputs": [
    {
     "data": {
      "text/plain": [
       "(797, 15000)"
      ]
     },
     "execution_count": 228,
     "metadata": {},
     "output_type": "execute_result"
    }
   ],
   "source": [
    "X_dtm.shape"
   ]
  },
  {
   "cell_type": "code",
   "execution_count": 235,
   "metadata": {
    "collapsed": true
   },
   "outputs": [],
   "source": [
    "from sklearn.decomposition import PCA\n",
    "import matplotlib.pyplot as plt\n",
    "%matplotlib inline"
   ]
  },
  {
   "cell_type": "code",
   "execution_count": 233,
   "metadata": {},
   "outputs": [
    {
     "data": {
      "text/plain": [
       "PCA(copy=True, n_components=20, whiten=False)"
      ]
     },
     "execution_count": 233,
     "metadata": {},
     "output_type": "execute_result"
    }
   ],
   "source": [
    "model = PCA(n_components=20)\n",
    "model.fit(X_dtm.todense())"
   ]
  },
  {
   "cell_type": "markdown",
   "metadata": {},
   "source": [
    "### Use scree plot to visualize latent feature importance"
   ]
  },
  {
   "cell_type": "code",
   "execution_count": 344,
   "metadata": {
    "collapsed": true
   },
   "outputs": [],
   "source": [
    "def scree_plot(pca, title=None):\n",
    "    num_components = pca.n_components_\n",
    "    ind = np.arange(num_components)\n",
    "    vals = pca.explained_variance_ratio_\n",
    "    plt.figure(figsize=(10, 6), dpi=250)\n",
    "    ax = plt.subplot(111)\n",
    "    ax.bar(ind, vals, 0.35)\n",
    "\n",
    "    for i in xrange(num_components):\n",
    "        ax.annotate(r\"%s%%\" % ((str(vals[i]*100)[:4])), (ind[i]+0.2, vals[i]), va=\"bottom\", ha=\"center\", fontsize=8)\n",
    "\n",
    "    ax.set_xticklabels(ind,\n",
    "                       fontsize=6)\n",
    "\n",
    "    ax.set_ylim(0, max(vals)+0.05)\n",
    "    ax.set_xlim(0-0.5, 20)\n",
    "\n",
    "    ax.xaxis.set_tick_params(width=0)\n",
    "    ax.yaxis.set_tick_params(width=2, length=12)\n",
    "\n",
    "    ax.set_xlabel(\"Principal Component\", fontsize=6)\n",
    "    ax.set_ylabel(\"Variance Explained (%)\", fontsize=6)\n",
    "\n",
    "    if title is not None:\n",
    "        plt.title(title, fontsize=16)"
   ]
  },
  {
   "cell_type": "code",
   "execution_count": 345,
   "metadata": {},
   "outputs": [
    {
     "data": {
      "text/plain": [
       "20"
      ]
     },
     "execution_count": 345,
     "metadata": {},
     "output_type": "execute_result"
    }
   ],
   "source": [
    "model.n_components_"
   ]
  },
  {
   "cell_type": "code",
   "execution_count": 346,
   "metadata": {},
   "outputs": [
    {
     "data": {
      "image/png": "[encoded data removed]",
      "text/plain": [
       "<matplotlib.figure.Figure at 0x1a20ab5f50>"
      ]
     },
     "metadata": {},
     "output_type": "display_data"
    }
   ],
   "source": [
    "scree_plot(model, title='Latent Features from PCA')"
   ]
  },
  {
   "cell_type": "markdown",
   "metadata": {},
   "source": [
    "### The first 3 components shows significant variance explanation"
   ]
  },
  {
   "cell_type": "code",
   "execution_count": 256,
   "metadata": {
    "collapsed": true
   },
   "outputs": [],
   "source": [
    "from sklearn.decomposition import NMF"
   ]
  },
  {
   "cell_type": "code",
   "execution_count": 258,
   "metadata": {
    "collapsed": true
   },
   "outputs": [],
   "source": [
    "model2 = NMF(n_components=10)\n",
    "W = model2.fit_transform(X_dtm)\n",
    "H = model2.components_"
   ]
  },
  {
   "cell_type": "markdown",
   "metadata": {},
   "source": [
    "### We can examine H matrix to see what are some top words for each latent features"
   ]
  },
  {
   "cell_type": "code",
   "execution_count": 266,
   "metadata": {
    "collapsed": true
   },
   "outputs": [],
   "source": [
    "vocab = np.array(vectorizer.get_feature_names())"
   ]
  },
  {
   "cell_type": "code",
   "execution_count": 272,
   "metadata": {},
   "outputs": [
    {
     "name": "stdout",
     "output_type": "stream",
     "text": [
      "1 :  for a government not been with this have ha upon should from such wa or congress state law on are an at their would our any public 000 under may power will country duty no present these they other made shall if constitution subject were general interest but bill them condition treasury there year department provision question consideration appropriation than can tariff necessary senate bank act had all legislation service gold treaty during measure message without time attention case thus foreign relation expenditure federal report commerce business revenue officer right so authority national representative only court purpose amount result one \n",
      "\n",
      "2 :  american job our more congress program is it ve you budget help work their re child with family federal tonight economy cut people health america new energy percent business by bill school deficit who care inflation government plan million income thank spending oil be billion rate all now drug have need make must about from worker reform we economic are get my every community want than an increase should they ll parent but insurance system these pay working unemployment price cost also challenge investment education hard next 000 a first many do at up can ask over college crime growth \n",
      "\n",
      "3 :  mr think this they what are of wa he do going your there on not a but about be don would for people can know say very who ve want had if my some here re when me so all get one or been with will thing them just am out how at time because were now said go got republican question senator up ha any u believe those country tell right like come his year did well from see could then governor way kennedy something viet day back thank him vote nam much down take make feel didn white \n",
      "\n",
      "4 :  in for it who laughter job america they she what is so here more on are got because can just or her want their not this child but school folk get family make don grace a american from know like college about ll u worker thank health up work student with every care senior right will terrorist where kid when how middle by israel economy reform audience year your company medicare class why insurance hard country need new change back people now have business gabby everybody wa going generation time if idea young better immigrant he afghanistan somebody sure vote \n",
      "\n",
      "5 :  all this men are nation not but be people will which life great with american his or a world every man no they have my those u freedom war must peace day from by free liberty own upon many woman right your country never them he wa today these heart america hope here at citizen justice one only honor when so come university ha human spirit society government were an god you history democracy me shall most national fellow her space ever others civilization whose cannot friend on sacrifice faith service new responsibility purpose yet long through task home thought \n",
      "\n",
      "6 :  in hereby such said person territory shall be all law whereof affixed aforesaid any seal vessel act hereunto that day may thereof indian on within jurisdiction a caused independence treaty city secretary washington port citizen at authority cuba america against unlawful do therefore panama article testimony warn government set respective constitution date military july april grant hand this belligerent their legislature with congress officer part hundred admonish disperse combination 1869 resolution republic grover force hamilton neutrality my from obstruction peaceably title mexico done convention fish land same james violation 1898 expedition declare regarding proclaim for executive ulysses have enjoin 1903 \n",
      "\n",
      "7 :  saddam that kuwait hussein regime coalition troop al is force with security war qaeda have their it for this america military afghanistan are weapon united nation a on american be mission world baghdad people terror not they ve council attack ha tonight enemy saudi middle from extremist country woman by operation against east re mass gulf innocent region combat victory threat state sectarian fight partner ally qaida civilian arabia help these he resolution oil can all end aggression an afghan strategy destruction home would more dictator commander them who no sanction arab kuwaiti violence iran 1991 after inspector build chemical \n",
      "\n",
      "8 :  have can and world it must but will nation america for a be new more with american do let what freedom year all people if ha this know today time they so no those need own cannot there than century together which strength way on because from or generation now by make each ourselves problem policy life believe only build live change one dream god child seek economic challenge peace when human defense responsibility democracy faith earth strong face these hope energy tonight work future goal task free country every them mean common could come up old before spirit better \n",
      "\n",
      "9 :  war and american will this for hanoi is on with asia we communist tonight are bombing would southeast a aggression their president united viet nam ha force end at be enemy military cambodia negotiation any representative men been withdrawal state action by paris our all other decision people talk casualty an conference troop prisoner ambassador agreement they made am now indochina it there fighting nation very government effort these evening support from not vietcong dominican republic leader week sanctuary against ally attack negotiate involvement want cease side some throughout 1966 progress think month thieu meeting goal year time statement morning \n",
      "\n",
      "10 :  united on nation will war weapon with union treaty agreement missile arm is force europe strategic berlin state that all east security an threat ha israel military be a negotiation people germany by defense new have gorbachev year other wa ally also international west these at control aggression been between freedom communist would german western their free today moscow now from it air must israeli american middle peaceful afghanistan conflict future palestinian ve japanese human agreed area two attack geneva japan offensive toward major atomic hope effort nato talk leader first summit poland economic meeting are both range continue step \n",
      "\n"
     ]
    }
   ],
   "source": [
    "i = 1\n",
    "for lf in H:\n",
    "    #print type(lf)\n",
    "    # Get the top 100 most important words starting from after some common words\n",
    "    idx = lf.argsort()[::-1][11:111]\n",
    "    top_w = vocab[idx]\n",
    "    print i,': ',' '.join(top_w), '\\n'\n",
    "    i += 1"
   ]
  },
  {
   "cell_type": "markdown",
   "metadata": {},
   "source": [
    "### Topic Examine Result:\n",
    "#### Topic 1: Business legislation\n",
    "#### Topic 2: American jobs\n",
    "#### Topic 3: Kenndy and Vietnam\n",
    "#### Topic 4: Immigration and Education\n",
    "#### Topic 5: Freedom, Democracy and Peace\n",
    "#### Topic 6: Cuba and Panama\n",
    "#### Topic 7: Gulf War\n",
    "#### Topic 8: Freedom, Democracy and Peace\n",
    "#### Topic 9: Southeast Asia and Vietnam\n",
    "#### Topic 10: WWII"
   ]
  },
  {
   "cell_type": "code",
   "execution_count": null,
   "metadata": {
    "collapsed": true
   },
   "outputs": [],
   "source": []
  }
 ],
 "metadata": {
  "kernelspec": {
   "display_name": "Python 2",
   "language": "python",
   "name": "python2"
  },
  "language_info": {
   "codemirror_mode": {
    "name": "ipython",
    "version": 2
   },
   "file_extension": ".py",
   "mimetype": "text/x-python",
   "name": "python",
   "nbconvert_exporter": "python",
   "pygments_lexer": "ipython2",
   "version": "2.7.13"
  }
 },
 "nbformat": 4,
 "nbformat_minor": 2
}
